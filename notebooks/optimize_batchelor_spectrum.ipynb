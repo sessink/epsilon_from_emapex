{
 "cells": [
  {
   "cell_type": "markdown",
   "metadata": {},
   "source": [
    "## Speed up computation of Batchelor spectrum with Fortran"
   ]
  },
  {
   "cell_type": "code",
   "execution_count": 16,
   "metadata": {},
   "outputs": [
    {
     "name": "stdout",
     "output_type": "stream",
     "text": [
      "The fortranmagic extension is already loaded. To reload it, use:\n",
      "  %reload_ext fortranmagic\n"
     ]
    }
   ],
   "source": [
    "%load_ext fortranmagic"
   ]
  },
  {
   "cell_type": "code",
   "execution_count": 5,
   "metadata": {},
   "outputs": [],
   "source": [
    "import numpy as np\n",
    "from epsilon_tools import *"
   ]
  },
  {
   "cell_type": "code",
   "execution_count": 6,
   "metadata": {},
   "outputs": [],
   "source": [
    "def np_batchelor(k_rpm, chi, kb_rpm, p):\n",
    "    '''\n",
    "    Batchelor temperature gradient spectrum\n",
    "\n",
    "    reference: Oakey, 1982\n",
    "    see also: Lien, 1992\n",
    "    '''\n",
    "    import numpy as np\n",
    "    import math\n",
    "    from scipy.special import erfc\n",
    "\n",
    "    a = np.sqrt(2 * p.q) * k_rpm / kb_rpm\n",
    "    uppera = []\n",
    "    for ai in a:\n",
    "        uppera.append(erfc(ai / math.sqrt(2)) * math.sqrt(0.5 * math.pi))\n",
    "    g = 2 * math.pi * a * (np.exp(-0.5 * a**2) - a * np.array(uppera))\n",
    "    return math.sqrt(0.5 * p.q) * (chi / (kb_rpm* p.D)) * g / (2 * math.pi)"
   ]
  },
  {
   "cell_type": "code",
   "execution_count": 12,
   "metadata": {},
   "outputs": [],
   "source": []
  },
  {
   "cell_type": "code",
   "execution_count": 9,
   "metadata": {},
   "outputs": [],
   "source": [
    "p = Parameters()\n",
    "kbs = np.linspace(200,600)\n",
    "f_cps = np.linspace(0,60,5000)\n",
    "w=0.1\n",
    "chi =1e-8\n",
    "k_rpm = f_cps* 2 * np.pi/w"
   ]
  },
  {
   "cell_type": "code",
   "execution_count": 17,
   "metadata": {},
   "outputs": [
    {
     "name": "stdout",
     "output_type": "stream",
     "text": [
      "8.53 ms ± 203 µs per loop (mean ± std. dev. of 7 runs, 100 loops each)\n"
     ]
    }
   ],
   "source": [
    "%%timeit\n",
    "np_batchelor(k_rpm, chi, 350, p)"
   ]
  },
  {
   "cell_type": "code",
   "execution_count": 52,
   "metadata": {},
   "outputs": [
    {
     "name": "stdout",
     "output_type": "stream",
     "text": [
      "59.4 µs ± 956 ns per loop (mean ± std. dev. of 7 runs, 10000 loops each)\n"
     ]
    }
   ],
   "source": [
    "%%timeit\n",
    "np_kraichnan(k_rpm, chi, 350, p)"
   ]
  },
  {
   "cell_type": "code",
   "execution_count": 32,
   "metadata": {},
   "outputs": [],
   "source": [
    "%%fortran\n",
    "subroutine for_batchelor(k, chi, kb, q, D, s)\n",
    "real, intent(in) :: k(:), chi, kb, q, D\n",
    "real, dimension(size(k)) ,intent(out) :: s\n",
    "real, dimension(size(k)) :: a, b, g\n",
    "real :: pi\n",
    "        \n",
    "pi = 4*atan(1.)        \n",
    "a = sqrt(2.*q) * k / kb\n",
    "\n",
    "do i = 1, size(k), 1\n",
    "    b(i) = erfc(a(i) / sqrt(2.)) * sqrt(0.5 * pi)\n",
    "end do\n",
    "g = 2 * pi * a * (exp(-0.5 * a**2) - a * b)\n",
    "s = sqrt(0.5 * q) * (chi / (kb* D)) * g / (2*pi)\n",
    "end subroutine"
   ]
  },
  {
   "cell_type": "code",
   "execution_count": null,
   "metadata": {},
   "outputs": [],
   "source": [
    "def np_kraichnan(k_rpm, chi, kb_rpm, p):\n",
    "    '''\n",
    "    Kraichnan temperature gradient spectrum\n",
    "\n",
    "    adapted from: Goto et al., 2016\n",
    "    '''\n",
    "    import numpy as np\n",
    "    import math\n",
    "    yk = math.sqrt(p.qk)* k_rpm / kb_rpm\n",
    "    nom = chi*math.sqrt(p.qk)*yk*np.exp(-math.sqrt(6)*yk)\n",
    "    denom = (p.D*kb_rpm)\n",
    "    return nom/denom"
   ]
  },
  {
   "cell_type": "code",
   "execution_count": 58,
   "metadata": {},
   "outputs": [],
   "source": [
    "%%fortran\n",
    "subroutine for_kraichnan(k, chi, kb, qk, D, s)\n",
    "real, intent(in) :: k(:), chi, kb, qk, D\n",
    "real, dimension(size(k)) ,intent(out) :: s\n",
    "real, dimension(size(k)) :: yk\n",
    "real :: pi\n",
    "        \n",
    "pi = 4*atan(1.)        \n",
    "yk(:) = sqrt(2.*qk) * k(:) / kb\n",
    "s(:) = chi*sqrt(qk)*yk(:)*exp(-sqrt(6.)*yk(:))/(D*kb)\n",
    "\n",
    "end subroutine"
   ]
  },
  {
   "cell_type": "code",
   "execution_count": 59,
   "metadata": {},
   "outputs": [
    {
     "name": "stdout",
     "output_type": "stream",
     "text": [
      "105 µs ± 1.35 µs per loop (mean ± std. dev. of 7 runs, 10000 loops each)\n"
     ]
    }
   ],
   "source": [
    "%%timeit\n",
    "for_kraichnan(k_rpm, chi, 350, p.qk, p.D)"
   ]
  },
  {
   "cell_type": "code",
   "execution_count": 34,
   "metadata": {},
   "outputs": [
    {
     "name": "stdout",
     "output_type": "stream",
     "text": [
      "299 µs ± 8.03 µs per loop (mean ± std. dev. of 7 runs, 1000 loops each)\n"
     ]
    }
   ],
   "source": [
    "%%timeit\n",
    "for_batchelor(k_rpm, chi, 350, p.q, p.D)"
   ]
  }
 ],
 "metadata": {
  "kernelspec": {
   "display_name": "Python 3",
   "language": "python",
   "name": "python3"
  },
  "language_info": {
   "codemirror_mode": {
    "name": "ipython",
    "version": 3
   },
   "file_extension": ".py",
   "mimetype": "text/x-python",
   "name": "python",
   "nbconvert_exporter": "python",
   "pygments_lexer": "ipython3",
   "version": "3.7.3"
  }
 },
 "nbformat": 4,
 "nbformat_minor": 4
}
