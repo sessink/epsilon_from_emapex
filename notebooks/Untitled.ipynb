{
 "cells": [
  {
   "cell_type": "code",
   "execution_count": 2,
   "metadata": {},
   "outputs": [],
   "source": [
    "%store -r tms"
   ]
  },
  {
   "cell_type": "code",
   "execution_count": 3,
   "metadata": {},
   "outputs": [],
   "source": [
    "def cost_function(kb, k_rpm, chi, noise, corrdTdz, function, p):\n",
    "    '''\n",
    "    Cost function for MLE to fit spectra\n",
    "    '''\n",
    "    from scipy.stats import chi2\n",
    "\n",
    "    if function.lower() == 'batchelor':\n",
    "        theory = batchelor(k_rpm, chi, kb, p)\n",
    "    elif function.lower() == 'kraichnan':\n",
    "        theory = kraichnan(k_rpm, chi, kb, p)\n",
    "    elif function.lower() == 'powerlaw':\n",
    "        theory = powerlaw(k_rpm, chi, kb, p)\n",
    "    else:\n",
    "        raise ValueError('Function not known!')\n",
    "\n",
    "    a = p.dof / (theory + noise)\n",
    "    b = chi2.pdf(corrdTdz * a, p.dof)\n",
    "    c = np.log(a * b)\n",
    "\n",
    "    return -np.nansum(c)"
   ]
  },
  {
   "cell_type": "code",
   "execution_count": null,
   "metadata": {},
   "outputs": [],
   "source": []
  }
 ],
 "metadata": {
  "kernelspec": {
   "display_name": "Python [conda env:epsilon-env] *",
   "language": "python",
   "name": "conda-env-epsilon-env-py"
  },
  "language_info": {
   "codemirror_mode": {
    "name": "ipython",
    "version": 3
   },
   "file_extension": ".py",
   "mimetype": "text/x-python",
   "name": "python",
   "nbconvert_exporter": "python",
   "pygments_lexer": "ipython3",
   "version": "3.7.3"
  }
 },
 "nbformat": 4,
 "nbformat_minor": 4
}
